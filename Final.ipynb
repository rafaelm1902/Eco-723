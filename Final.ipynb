{
 "cells": [
  {
   "cell_type": "markdown",
   "id": "f4d5f193",
   "metadata": {},
   "source": [
    "# Final for Eco 723 - Time Series"
   ]
  },
  {
   "cell_type": "markdown",
   "id": "722e3a9c",
   "metadata": {},
   "source": [
    "Using data from the S&P/BVL Peru General Index, I fit a GARCH (1,1) model to forecast volatility and compute a \n",
    "VaR Backtest Report using the R library \"rugarch\"."
   ]
  },
  {
   "cell_type": "code",
   "execution_count": 1,
   "id": "b57a9893",
   "metadata": {
    "scrolled": false
   },
   "outputs": [
    {
     "name": "stderr",
     "output_type": "stream",
     "text": [
      "Warning message:\n",
      "\"package 'tseries' was built under R version 3.6.3\"Registered S3 method overwritten by 'quantmod':\n",
      "  method            from\n",
      "  as.zoo.data.frame zoo \n",
      "Warning message:\n",
      "\"package 'zoo' was built under R version 3.6.3\"\n",
      "Attaching package: 'zoo'\n",
      "\n",
      "The following objects are masked from 'package:base':\n",
      "\n",
      "    as.Date, as.Date.numeric\n",
      "\n",
      "Warning message:\n",
      "\"package 'forecast' was built under R version 3.6.3\"Warning message:\n",
      "\"package 'FinTS' was built under R version 3.6.3\"\n",
      "Attaching package: 'FinTS'\n",
      "\n",
      "The following object is masked from 'package:forecast':\n",
      "\n",
      "    Acf\n",
      "\n",
      "Warning message:\n",
      "\"package 'rugarch' was built under R version 3.6.3\"Loading required package: parallel\n",
      "\n",
      "Attaching package: 'rugarch'\n",
      "\n",
      "The following object is masked from 'package:stats':\n",
      "\n",
      "    sigma\n",
      "\n"
     ]
    }
   ],
   "source": [
    "library(tseries)\n",
    "library(zoo)\n",
    "library(forecast)\n",
    "library(\"FinTS\")\n",
    "library(rugarch)"
   ]
  },
  {
   "cell_type": "markdown",
   "id": "11bdcdf1",
   "metadata": {},
   "source": [
    "# Data"
   ]
  },
  {
   "cell_type": "markdown",
   "id": "05071232",
   "metadata": {},
   "source": [
    "I get 5 years worth of data of from the S&P/BVL Peru General Index\n",
    "\n",
    "The S&P/BVL Peru General Index, is the main index of the Lima Stock Exchange. It is designed to serve as a broad benchmark for the Peruvian stock market, tracking the performance of the largest and most frequently traded stocks on the Lima Exchange.\n",
    "\n",
    "The data is obtained from yahoo, from May 2013 to May 2018\n"
   ]
  },
  {
   "cell_type": "code",
   "execution_count": 2,
   "id": "0598ae63",
   "metadata": {},
   "outputs": [
    {
     "name": "stderr",
     "output_type": "stream",
     "text": [
      "'getSymbols' currently uses auto.assign=TRUE by default, but will\n",
      "use auto.assign=FALSE in 0.5-0. You will still be able to use\n",
      "'loadSymbols' to automatically load data. getOption(\"getSymbols.env\")\n",
      "and getOption(\"getSymbols.auto.assign\") will still be checked for\n",
      "alternate defaults.\n",
      "\n",
      "This message is shown once per session and may be disabled by setting \n",
      "options(\"getSymbols.warning4.0\"=FALSE). See ?getSymbols for details.\n",
      "\n",
      "Warning message:\n",
      "\"^SPBLPGPT contains missing values. Some functions will not work if objects contain missing values in the middle of the series. Consider using na.omit(), na.approx(), na.fill(), etc to remove or replace them.\""
     ]
    },
    {
     "name": "stdout",
     "output_type": "stream",
     "text": [
      "time series starts 2013-05-02\n",
      "time series ends   2018-05-01\n"
     ]
    }
   ],
   "source": [
    "bvl <- get.hist.quote(instrument = \"^SPBLPGPT\" , start = \"2013-05-01\", end = \"2018-05-02\", quote =\"Adjusted\",provider = \"yahoo\",compression = \"d\" , retclass = \"zoo\")"
   ]
  },
  {
   "cell_type": "code",
   "execution_count": 3,
   "id": "3de55dfe",
   "metadata": {},
   "outputs": [
    {
     "name": "stdout",
     "output_type": "stream",
     "text": [
      "'zoo' series from 2013-05-02 to 2018-05-01\n",
      "  Data: num [1:1259, 1] 17448 17652 17706 17408 17575 ...\n",
      " - attr(*, \"dimnames\")=List of 2\n",
      "  ..$ : NULL\n",
      "  ..$ : chr \"Adjusted\"\n",
      "  Index:  Date[1:1259], format: \"2013-05-02\" \"2013-05-03\" \"2013-05-06\" \"2013-05-07\" \"2013-05-08\" ...\n"
     ]
    },
    {
     "data": {
      "text/plain": [
       "           Adjusted\n",
       "2013-05-02 17447.61\n",
       "2013-05-03 17652.27\n",
       "2013-05-06 17706.34\n",
       "2013-05-07 17408.11\n",
       "2013-05-08 17575.32\n",
       "2013-05-09 17812.75"
      ]
     },
     "metadata": {},
     "output_type": "display_data"
    },
    {
     "data": {
      "text/plain": [
       "           Adjusted\n",
       "2018-04-24 21504.17\n",
       "2018-04-25 21357.15\n",
       "2018-04-26 21467.14\n",
       "2018-04-27 21411.73\n",
       "2018-04-30 21431.16\n",
       "2018-05-01       NA"
      ]
     },
     "metadata": {},
     "output_type": "display_data"
    }
   ],
   "source": [
    "# I take a quick look at the data.\n",
    "str(bvl)\n",
    "head(bvl)\n",
    "tail(bvl)"
   ]
  },
  {
   "cell_type": "code",
   "execution_count": 4,
   "id": "4085fe26",
   "metadata": {},
   "outputs": [
    {
     "name": "stdout",
     "output_type": "stream",
     "text": [
      "'zoo' series from 2013-05-02 to 2018-04-30\n",
      "  Data: num [1:1220, 1] 17448 17652 17706 17408 17575 ...\n",
      " - attr(*, \"dimnames\")=List of 2\n",
      "  ..$ : NULL\n",
      "  ..$ : chr \"Adjusted\"\n",
      " - attr(*, \"na.action\")= 'omit' num [1:39] 61 85 111 129 243 252 312 313 363 405 ...\n",
      "  Index:  Date[1:1220], format: \"2013-05-02\" \"2013-05-03\" \"2013-05-06\" \"2013-05-07\" \"2013-05-08\" ...\n"
     ]
    },
    {
     "data": {
      "text/plain": [
       "           Adjusted\n",
       "2013-05-02 17447.61\n",
       "2013-05-03 17652.27\n",
       "2013-05-06 17706.34\n",
       "2013-05-07 17408.11\n",
       "2013-05-08 17575.32\n",
       "2013-05-09 17812.75"
      ]
     },
     "metadata": {},
     "output_type": "display_data"
    },
    {
     "data": {
      "text/plain": [
       "           Adjusted\n",
       "2018-04-23 21516.09\n",
       "2018-04-24 21504.17\n",
       "2018-04-25 21357.15\n",
       "2018-04-26 21467.14\n",
       "2018-04-27 21411.73\n",
       "2018-04-30 21431.16"
      ]
     },
     "metadata": {},
     "output_type": "display_data"
    }
   ],
   "source": [
    "bvl <- na.omit(bvl) # I get rid of NA values, and look at the data once more.\n",
    "str(bvl)\n",
    "head(bvl)\n",
    "tail(bvl)"
   ]
  },
  {
   "cell_type": "code",
   "execution_count": 5,
   "id": "e163f763",
   "metadata": {},
   "outputs": [
    {
     "data": {
      "image/png": "[encoded data removed]",
      "text/plain": [
       "Plot with title \"S&P/ BVL Peru General Index Closing Prices\""
      ]
     },
     "metadata": {},
     "output_type": "display_data"
    }
   ],
   "source": [
    "# I plot the series. \n",
    "plot(bvl , main = \"S&P/ BVL Peru General Index Closing Prices\", ylab = \"Price\", xlab = \"Date\", col =\"blue\")"
   ]
  },
  {
   "cell_type": "code",
   "execution_count": 6,
   "id": "7d5fe104",
   "metadata": {},
   "outputs": [
    {
     "data": {
      "text/plain": [
       "              Adjusted\n",
       "2013-05-03  1.16617197\n",
       "2013-05-06  0.30583983\n",
       "2013-05-07 -1.69866050\n",
       "2013-05-08  0.95595093\n",
       "2013-05-09  1.34188300\n",
       "2013-05-10 -0.06384624"
      ]
     },
     "metadata": {},
     "output_type": "display_data"
    }
   ],
   "source": [
    "# I compute daily log returns of the series. \n",
    "returns <- diff(log(bvl))*100 \n",
    "# The diff function computes the difference between pairs of consecutive elements of a numeric vector.\n",
    "head(returns)"
   ]
  },
  {
   "cell_type": "code",
   "execution_count": 7,
   "id": "ef71ef84",
   "metadata": {},
   "outputs": [
    {
     "data": {
      "image/png": "[encoded data removed]",
      "text/plain": [
       "Plot with title \"Daily Log Returns\""
      ]
     },
     "metadata": {},
     "output_type": "display_data"
    }
   ],
   "source": [
    "plot(returns, main = \"Daily Log Returns\", ylab = \"Returns in %\", xlab = \"Date\", col =\"red\")"
   ]
  },
  {
   "cell_type": "markdown",
   "id": "28f009c2",
   "metadata": {},
   "source": [
    "# Methods"
   ]
  },
  {
   "cell_type": "code",
   "execution_count": 8,
   "id": "2a5f6a47",
   "metadata": {},
   "outputs": [
    {
     "name": "stdout",
     "output_type": "stream",
     "text": [
      "\n",
      " Fitting models using approximations to speed things up...\n",
      "\n",
      " ARIMA(2,1,2) with drift         : Inf\n",
      " ARIMA(0,1,0) with drift         : 4287.012\n",
      " ARIMA(1,1,0) with drift         : 4059.118\n",
      " ARIMA(0,1,1) with drift         : Inf\n",
      " ARIMA(0,1,0)                    : 4280.572\n",
      " ARIMA(2,1,0) with drift         : 4146.043\n",
      " ARIMA(1,1,1) with drift         : Inf\n",
      " ARIMA(2,1,1) with drift         : Inf\n",
      " ARIMA(1,1,0)                    : 4055.064\n",
      " ARIMA(2,1,0)                    : 4139.686\n",
      " ARIMA(1,1,1)                    : Inf\n",
      " ARIMA(0,1,1)                    : Inf\n",
      " ARIMA(2,1,1)                    : Inf\n",
      "\n",
      " Now re-fitting the best model(s) without approximations...\n",
      "\n",
      " ARIMA(1,1,0)                    : 3830.941\n",
      "\n",
      " Best model: ARIMA(1,1,0)                    \n",
      "\n"
     ]
    }
   ],
   "source": [
    "# Before fitting the GARCH model, one must specify an ARMA(p,q) model\n",
    "fit1  <- auto.arima(returns, trace = T, test = \"kpss\", ic = \"bic\")"
   ]
  },
  {
   "cell_type": "code",
   "execution_count": 9,
   "id": "72daee76",
   "metadata": {
    "scrolled": true
   },
   "outputs": [],
   "source": [
    "# The best model suggested was an ARIMA (1,1,0). As a result, we differenced the series one more time.\n",
    "returns <- diff(returns, 1)"
   ]
  },
  {
   "cell_type": "code",
   "execution_count": 10,
   "id": "1fc75ba6",
   "metadata": {},
   "outputs": [
    {
     "name": "stdout",
     "output_type": "stream",
     "text": [
      "\n",
      " Fitting models using approximations to speed things up...\n",
      "\n",
      " ARIMA(2,0,2) with non-zero mean : -83017.26\n",
      " ARIMA(0,0,0) with non-zero mean : 3958.287\n",
      " ARIMA(1,0,0) with non-zero mean : 3761.1\n",
      " ARIMA(0,0,1) with non-zero mean : Inf\n",
      " ARIMA(0,0,0) with zero mean     : 3951.183\n",
      " ARIMA(1,0,2) with non-zero mean : Inf\n",
      " ARIMA(2,0,1) with non-zero mean : -80981.56\n",
      " ARIMA(3,0,2) with non-zero mean : Inf\n",
      " ARIMA(2,0,3) with non-zero mean : Inf\n",
      " ARIMA(1,0,1) with non-zero mean : Inf\n",
      " ARIMA(1,0,3) with non-zero mean : Inf\n",
      " ARIMA(3,0,1) with non-zero mean : -76935.31\n",
      " ARIMA(3,0,3) with non-zero mean : Inf\n",
      " ARIMA(2,0,2) with zero mean     : Inf\n",
      "\n",
      " Now re-fitting the best model(s) without approximations...\n",
      "\n",
      " ARIMA(2,0,2) with non-zero mean : Inf\n",
      " ARIMA(2,0,1) with non-zero mean : Inf\n",
      " ARIMA(3,0,1) with non-zero mean : Inf\n",
      " ARIMA(1,0,0) with non-zero mean : 3795.71\n",
      "\n",
      " Best model: ARIMA(1,0,0) with non-zero mean \n",
      "\n"
     ]
    }
   ],
   "source": [
    "fit2 <- auto.arima(returns, trace = T, test = \"kpss\", ic = \"bic\")\n",
    "# this time around the best model suggested was ARIMA (1,0,0) or also an ARMA (1,0) or an AR (1)."
   ]
  },
  {
   "cell_type": "code",
   "execution_count": 11,
   "id": "575e3d02",
   "metadata": {},
   "outputs": [
    {
     "data": {
      "text/plain": [
       "\n",
       "\tBox-Ljung test\n",
       "\n",
       "data:  fit2$residuals^2\n",
       "X-squared = 50.067, df = 1, p-value = 1.486e-12\n"
      ]
     },
     "metadata": {},
     "output_type": "display_data"
    },
    {
     "data": {
      "text/plain": [
       "\n",
       "\tARCH LM-test; Null hypothesis: no ARCH effects\n",
       "\n",
       "data:  returns\n",
       "Chi-squared = 202.96, df = 12, p-value < 2.2e-16\n"
      ]
     },
     "metadata": {},
     "output_type": "display_data"
    }
   ],
   "source": [
    "# A Box-Ljung test, as well as a ARCH LM test is performed on the series. Both nulls are rejects and we proceed to fit \n",
    "# specify the GARCH model. \n",
    "\n",
    "Box.test(fit2$residuals^2, lag = 1 ,type = \"Ljung-Box\")\n",
    "ArchTest(returns)\n"
   ]
  },
  {
   "cell_type": "code",
   "execution_count": 12,
   "id": "ef735373",
   "metadata": {},
   "outputs": [],
   "source": [
    "# I specify a GARCH(1,1) and an ARMA(1,0), based on the auto.arima function from before.\n",
    "specify <- ugarchspec(variance.model = list(garchOrder = c(1,1)), mean.model = list(armaOrder = c(1,0)))"
   ]
  },
  {
   "cell_type": "markdown",
   "id": "6c320a25",
   "metadata": {},
   "source": [
    "# Results"
   ]
  },
  {
   "cell_type": "code",
   "execution_count": 13,
   "id": "5c61b351",
   "metadata": {},
   "outputs": [
    {
     "name": "stdout",
     "output_type": "stream",
     "text": [
      "\n",
      "*---------------------------------*\n",
      "*          GARCH Model Fit        *\n",
      "*---------------------------------*\n",
      "\n",
      "Conditional Variance Dynamics \t\n",
      "-----------------------------------\n",
      "GARCH Model\t: sGARCH(1,1)\n",
      "Mean Model\t: ARFIMA(1,0,0)\n",
      "Distribution\t: norm \n",
      "\n",
      "Optimal Parameters\n",
      "------------------------------------\n",
      "        Estimate  Std. Error   t value Pr(>|t|)\n",
      "mu     -0.008584    0.017970  -0.47766 0.632894\n",
      "ar1    -0.407627    0.027721 -14.70454 0.000000\n",
      "omega   0.112160    0.041623   2.69470 0.007045\n",
      "alpha1  0.170583    0.035376   4.82198 0.000001\n",
      "beta1   0.742093    0.060986  12.16824 0.000000\n",
      "\n",
      "Robust Standard Errors:\n",
      "        Estimate  Std. Error  t value Pr(>|t|)\n",
      "mu     -0.008584    0.008171  -1.0504 0.293523\n",
      "ar1    -0.407627    0.024342 -16.7462 0.000000\n",
      "omega   0.112160    0.071645   1.5655 0.117464\n",
      "alpha1  0.170583    0.056423   3.0233 0.002501\n",
      "beta1   0.742093    0.107768   6.8860 0.000000\n",
      "\n",
      "LogLikelihood : -1783.137 \n",
      "\n",
      "Information Criteria\n",
      "------------------------------------\n",
      "                   \n",
      "Akaike       2.9362\n",
      "Bayes        2.9571\n",
      "Shibata      2.9362\n",
      "Hannan-Quinn 2.9441\n",
      "\n",
      "Weighted Ljung-Box Test on Standardized Residuals\n",
      "------------------------------------\n",
      "                        statistic   p-value\n",
      "Lag[1]                      18.01 2.195e-05\n",
      "Lag[2*(p+q)+(p+q)-1][2]     77.49 0.000e+00\n",
      "Lag[4*(p+q)+(p+q)-1][5]    114.14 0.000e+00\n",
      "d.o.f=1\n",
      "H0 : No serial correlation\n",
      "\n",
      "Weighted Ljung-Box Test on Standardized Squared Residuals\n",
      "------------------------------------\n",
      "                        statistic p-value\n",
      "Lag[1]                    0.09866  0.7534\n",
      "Lag[2*(p+q)+(p+q)-1][5]   4.95803  0.1565\n",
      "Lag[4*(p+q)+(p+q)-1][9]   6.68705  0.2268\n",
      "d.o.f=2\n",
      "\n",
      "Weighted ARCH LM Tests\n",
      "------------------------------------\n",
      "            Statistic Shape Scale P-Value\n",
      "ARCH Lag[3]     1.525 0.500 2.000  0.2168\n",
      "ARCH Lag[5]     3.183 1.440 1.667  0.2644\n",
      "ARCH Lag[7]     3.680 2.315 1.543  0.3950\n",
      "\n",
      "Nyblom stability test\n",
      "------------------------------------\n",
      "Joint Statistic:  0.7346\n",
      "Individual Statistics:               \n",
      "mu     0.009999\n",
      "ar1    0.093570\n",
      "omega  0.408679\n",
      "alpha1 0.343993\n",
      "beta1  0.489570\n",
      "\n",
      "Asymptotic Critical Values (10% 5% 1%)\n",
      "Joint Statistic:     \t 1.28 1.47 1.88\n",
      "Individual Statistic:\t 0.35 0.47 0.75\n",
      "\n",
      "Sign Bias Test\n",
      "------------------------------------\n",
      "                   t-value   prob sig\n",
      "Sign Bias           0.8776 0.3803    \n",
      "Negative Sign Bias  0.6329 0.5269    \n",
      "Positive Sign Bias  0.9619 0.3363    \n",
      "Joint Effect        1.3317 0.7216    \n",
      "\n",
      "\n",
      "Adjusted Pearson Goodness-of-Fit Test:\n",
      "------------------------------------\n",
      "  group statistic p-value(g-1)\n",
      "1    20     39.83     0.003442\n",
      "2    30     51.36     0.006420\n",
      "3    40     68.37     0.002507\n",
      "4    50     61.64     0.106191\n",
      "\n",
      "\n",
      "Elapsed time : 0.1743321 \n",
      "\n"
     ]
    }
   ],
   "source": [
    "# The model is fitted\n",
    "fit <- ugarchfit(spec = specify, data = returns)\n",
    "show(fit)"
   ]
  },
  {
   "cell_type": "code",
   "execution_count": 14,
   "id": "e33afea5",
   "metadata": {},
   "outputs": [
    {
     "name": "stdout",
     "output_type": "stream",
     "text": [
      "VaR Backtest Report\n",
      "===========================================\n",
      "Model:\t\t\t\tsGARCH-norm\n",
      "Backtest Length:\t1098\n",
      "Data:\t\t\t\t\n",
      "\n",
      "==========================================\n",
      "alpha:\t\t\t\t1%\n",
      "Expected Exceed:\t11\n",
      "Actual VaR Exceed:\t15\n",
      "Actual %:\t\t\t1.4%\n",
      "\n",
      "Unconditional Coverage (Kupiec)\n",
      "Null-Hypothesis:\tCorrect Exceedances\n",
      "LR.uc Statistic:\t1.334\n",
      "LR.uc Critical:\t\t6.635\n",
      "LR.uc p-value:\t\t0.248\n",
      "Reject Null:\t\tNO\n",
      "\n",
      "Conditional Coverage (Christoffersen)\n",
      "Null-Hypothesis:\tCorrect Exceedances and\n",
      "\t\t\t\t\tIndependence of Failures\n",
      "LR.cc Statistic:\t1.75\n",
      "LR.cc Critical:\t\t9.21\n",
      "LR.cc p-value:\t\t0.417\n",
      "Reject Null:\t\tNO\n"
     ]
    }
   ],
   "source": [
    "# The VaR Backtest Report is computed at aplha .01\n",
    "\n",
    "roll <- ugarchroll( specify, returns, n.start = 120, refit.every = 1, refit.window = \"moving\", solver = \"hybrid\", calculate.VaR = TRUE, VaR.alpha = c(0.01,.05), keep.coef = TRUE, fit.control = list(scale = 1))\n",
    "report(roll, type = \"VaR\", VaR.alpha = 0.01, conf.level = 0.99)"
   ]
  },
  {
   "cell_type": "code",
   "execution_count": 15,
   "id": "b1c06054",
   "metadata": {},
   "outputs": [
    {
     "name": "stdout",
     "output_type": "stream",
     "text": [
      "\n",
      "please wait...calculating quantiles...\n"
     ]
    },
    {
     "data": {
      "image/png": "[encoded data removed]",
      "text/plain": [
       "Plot with title \"Series with with 1% VaR Limits\""
      ]
     },
     "metadata": {},
     "output_type": "display_data"
    },
    {
     "data": {
      "image/png": "[encoded data removed]",
      "text/plain": [
       "plot without title"
      ]
     },
     "metadata": {},
     "output_type": "display_data"
    }
   ],
   "source": [
    "plot(fit, which = 2)\n",
    "plot(roll, which = 4, VaR.alpha = 0.01)"
   ]
  },
  {
   "cell_type": "code",
   "execution_count": 16,
   "id": "847fe024",
   "metadata": {},
   "outputs": [
    {
     "data": {
      "text/plain": [
       "\n",
       "*------------------------------------*\n",
       "*       GARCH Model Forecast         *\n",
       "*------------------------------------*\n",
       "Model: sGARCH\n",
       "Horizon: 60\n",
       "Roll Steps: 0\n",
       "Out of Sample: 0\n",
       "\n",
       "0-roll forecast [T0=2018-04-30]:\n",
       "        Series  Sigma\n",
       "T+1  -0.154406 0.7923\n",
       "T+2   0.050858 0.8277\n",
       "T+3  -0.032813 0.8587\n",
       "T+4   0.001293 0.8861\n",
       "T+5  -0.012610 0.9104\n",
       "T+6  -0.006942 0.9320\n",
       "T+7  -0.009253 0.9513\n",
       "T+8  -0.008311 0.9685\n",
       "T+9  -0.008695 0.9840\n",
       "T+10 -0.008538 0.9979\n",
       "T+11 -0.008602 1.0105\n",
       "T+12 -0.008576 1.0218\n",
       "T+13 -0.008587 1.0320\n",
       "T+14 -0.008582 1.0413\n",
       "T+15 -0.008584 1.0496\n",
       "T+16 -0.008583 1.0572\n",
       "T+17 -0.008584 1.0641\n",
       "T+18 -0.008584 1.0703\n",
       "T+19 -0.008584 1.0759\n",
       "T+20 -0.008584 1.0811\n",
       "T+21 -0.008584 1.0857\n",
       "T+22 -0.008584 1.0900\n",
       "T+23 -0.008584 1.0938\n",
       "T+24 -0.008584 1.0973\n",
       "T+25 -0.008584 1.1005\n",
       "T+26 -0.008584 1.1034\n",
       "T+27 -0.008584 1.1061\n",
       "T+28 -0.008584 1.1085\n",
       "T+29 -0.008584 1.1107\n",
       "T+30 -0.008584 1.1127\n",
       "T+31 -0.008584 1.1145\n",
       "T+32 -0.008584 1.1161\n",
       "T+33 -0.008584 1.1177\n",
       "T+34 -0.008584 1.1190\n",
       "T+35 -0.008584 1.1203\n",
       "T+36 -0.008584 1.1214\n",
       "T+37 -0.008584 1.1225\n",
       "T+38 -0.008584 1.1234\n",
       "T+39 -0.008584 1.1243\n",
       "T+40 -0.008584 1.1251\n",
       "T+41 -0.008584 1.1258\n",
       "T+42 -0.008584 1.1265\n",
       "T+43 -0.008584 1.1271\n",
       "T+44 -0.008584 1.1276\n",
       "T+45 -0.008584 1.1281\n",
       "T+46 -0.008584 1.1286\n",
       "T+47 -0.008584 1.1290\n",
       "T+48 -0.008584 1.1294\n",
       "T+49 -0.008584 1.1297\n",
       "T+50 -0.008584 1.1300\n",
       "T+51 -0.008584 1.1303\n",
       "T+52 -0.008584 1.1306\n",
       "T+53 -0.008584 1.1308\n",
       "T+54 -0.008584 1.1310\n",
       "T+55 -0.008584 1.1312\n",
       "T+56 -0.008584 1.1314\n",
       "T+57 -0.008584 1.1316\n",
       "T+58 -0.008584 1.1317\n",
       "T+59 -0.008584 1.1319\n",
       "T+60 -0.008584 1.1320\n",
       "\n"
      ]
     },
     "metadata": {},
     "output_type": "display_data"
    }
   ],
   "source": [
    "# We forecast volatility for the next 60 days\n",
    "forecast <- ugarchforecast(fit, n.ahead = 60)\n",
    "forecast"
   ]
  },
  {
   "cell_type": "code",
   "execution_count": 17,
   "id": "f94ca324",
   "metadata": {},
   "outputs": [
    {
     "data": {
      "image/png": "[encoded data removed]",
      "text/plain": [
       "Plot with title \"Forecast Series\n",
       " w/th unconditional 1-Sigma bands\""
      ]
     },
     "metadata": {},
     "output_type": "display_data"
    }
   ],
   "source": [
    "plot(forecast, which = 1) "
   ]
  },
  {
   "cell_type": "code",
   "execution_count": 18,
   "id": "800dbad6",
   "metadata": {},
   "outputs": [
    {
     "data": {
      "image/png": "[encoded data removed]",
      "text/plain": [
       "Plot with title \"Simulated Series\""
      ]
     },
     "metadata": {},
     "output_type": "display_data"
    }
   ],
   "source": [
    "# We simulate volatilty for the 1000 days\n",
    "\n",
    "sim = ugarchsim(fit, n.sim = 1000, m.sim = 25, rseed = 1:25)\n",
    "plot(sim, which =2)"
   ]
  },
  {
   "cell_type": "code",
   "execution_count": null,
   "id": "fbdbe0f9",
   "metadata": {},
   "outputs": [],
   "source": []
  }
 ],
 "metadata": {
  "kernelspec": {
   "display_name": "R",
   "language": "R",
   "name": "ir"
  },
  "language_info": {
   "codemirror_mode": "r",
   "file_extension": ".r",
   "mimetype": "text/x-r-source",
   "name": "R",
   "pygments_lexer": "r",
   "version": "3.6.1"
  }
 },
 "nbformat": 4,
 "nbformat_minor": 5
}
